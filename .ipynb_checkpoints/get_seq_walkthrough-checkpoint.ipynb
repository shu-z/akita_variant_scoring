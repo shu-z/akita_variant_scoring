{
 "cells": [
  {
   "cell_type": "code",
   "execution_count": null,
   "id": "c07f5d8c",
   "metadata": {},
   "outputs": [],
   "source": []
  },
  {
   "cell_type": "code",
   "execution_count": null,
   "id": "77489afd",
   "metadata": {},
   "outputs": [],
   "source": [
    "# To get sequences"
   ]
  },
  {
   "cell_type": "code",
   "execution_count": null,
   "id": "0ac4d56d",
   "metadata": {},
   "outputs": [],
   "source": [
    "# To read sequences in python"
   ]
  },
  {
   "cell_type": "code",
   "execution_count": null,
   "id": "c20e6f9e",
   "metadata": {},
   "outputs": [],
   "source": [
    "# To grab a certain set of sequences and apply to a model"
   ]
  },
  {
   "cell_type": "code",
   "execution_count": null,
   "id": "f3beb0c9",
   "metadata": {},
   "outputs": [],
   "source": []
  },
  {
   "cell_type": "code",
   "execution_count": null,
   "id": "0a0f72ac",
   "metadata": {},
   "outputs": [],
   "source": []
  },
  {
   "cell_type": "code",
   "execution_count": null,
   "id": "1b991af1",
   "metadata": {},
   "outputs": [],
   "source": []
  }
 ],
 "metadata": {
  "kernelspec": {
   "display_name": "Python 3",
   "language": "python",
   "name": "python3"
  },
  "language_info": {
   "codemirror_mode": {
    "name": "ipython",
    "version": 3
   },
   "file_extension": ".py",
   "mimetype": "text/x-python",
   "name": "python",
   "nbconvert_exporter": "python",
   "pygments_lexer": "ipython3",
   "version": "3.7.11"
  },
  "toc": {
   "base_numbering": 1,
   "nav_menu": {},
   "number_sections": true,
   "sideBar": true,
   "skip_h1_title": false,
   "title_cell": "Table of Contents",
   "title_sidebar": "Contents",
   "toc_cell": false,
   "toc_position": {},
   "toc_section_display": true,
   "toc_window_display": false
  }
 },
 "nbformat": 4,
 "nbformat_minor": 5
}
