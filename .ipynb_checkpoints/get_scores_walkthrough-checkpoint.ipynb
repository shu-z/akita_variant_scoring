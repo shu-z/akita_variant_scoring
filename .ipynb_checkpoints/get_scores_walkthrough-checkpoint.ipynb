{
 "cells": [
  {
   "cell_type": "markdown",
   "id": "24cedf70",
   "metadata": {},
   "source": [
    "# get_Akita_scores walkthrough"
   ]
  },
  {
   "cell_type": "code",
   "execution_count": 3,
   "id": "c59d4334",
   "metadata": {},
   "outputs": [],
   "source": [
    "import pandas as pd\n",
    "import numpy as np \n",
    "\n",
    "import os\n",
    "\n",
    "from collections import Counter"
   ]
  },
  {
   "cell_type": "markdown",
   "id": "5ae18df7",
   "metadata": {},
   "source": [
    "In this walkthrough, we will run get_scores on CTCF binding site deletions, which we generated in custom_perturbations.ipynb.\n",
    "\n",
    "To do so, we've run the following command (the output of the following cell) in the terminal. By changing the variables below, you can get a command that fits your custom set of perturbations. Note: there are more arguments available that are not included here.  "
   ]
  },
  {
   "cell_type": "code",
   "execution_count": 4,
   "id": "38649d22",
   "metadata": {},
   "outputs": [
    {
     "name": "stdout",
     "output_type": "stream",
     "text": [
      "Run this command in the terminal in the appropriate Conda environment:\n",
      "\n",
      "python score_var.py --in test/input/CTCF_del_symb_alleles --scores mse corr ssi --shift_by -1 0 1 --revcomp add_revcomp --file CTCF_del --dir test/output --get_scores --get_maps --get_tracks\n"
     ]
    }
   ],
   "source": [
    "in_file = 'test/input/CTCF_del_symb_alleles' # A set of 50 CTCF deletions\n",
    "scores = 'mse corr ssi' # Three different disruption scoring methods\n",
    "shift_by = '-1 0 1' # Shift sequences by 1 bp left and right\n",
    "revcomp = 'add_revcomp' # Also score the reverse complement of all sequences\n",
    "file = 'CTCF_del' # Output files prefix\n",
    "directory = 'test/output' # Output directory\n",
    "\n",
    "print('Run this command in the terminal in the appropriate Conda environment:\\n')\n",
    "print('python score_var.py',\n",
    "      '--in', in_file,\n",
    "      '--scores', scores,\n",
    "      '--shift_by', shift_by,\n",
    "      '--revcomp', revcomp,\n",
    "      '--file', file,\n",
    "      '--dir', directory,\n",
    "      '--get_scores',\n",
    "      '--get_maps',\n",
    "      '--get_tracks')\n"
   ]
  },
  {
   "cell_type": "code",
   "execution_count": 5,
   "id": "748dcc67",
   "metadata": {},
   "outputs": [],
   "source": [
    "# Get path to output files\n",
    "out_file = os.path.join(directory, file)"
   ]
  },
  {
   "cell_type": "markdown",
   "id": "657792d0",
   "metadata": {},
   "source": [
    "# Get results"
   ]
  },
  {
   "cell_type": "markdown",
   "id": "ae0a58a3",
   "metadata": {},
   "source": [
    "## filtered_out file"
   ]
  },
  {
   "cell_type": "markdown",
   "id": "3b699081",
   "metadata": {},
   "source": [
    "Check filtered_out file for any perturbations that were filtered out"
   ]
  },
  {
   "cell_type": "code",
   "execution_count": 100,
   "id": "d8fd045f",
   "metadata": {
    "scrolled": true
   },
   "outputs": [
    {
     "name": "stdout",
     "output_type": "stream",
     "text": [
      "No perturbations were filtered out.\n"
     ]
    }
   ],
   "source": [
    "# Read filtered out file\n",
    "\n",
    "filtered_out_file = f'{out_file}_filtered_out'\n",
    "\n",
    "if os.path.getsize(filtered_out_file) == 0:\n",
    "    print('No perturbations were filtered out.')\n",
    "else:\n",
    "    pd.read_csv(filtered_out_file, sep = '\\t')"
   ]
  },
  {
   "cell_type": "markdown",
   "id": "7bc36b18",
   "metadata": {},
   "source": [
    "## log file"
   ]
  },
  {
   "cell_type": "markdown",
   "id": "2d988b8e",
   "metadata": {},
   "source": [
    "Check the log file for errors and warnings"
   ]
  },
  {
   "cell_type": "code",
   "execution_count": 106,
   "id": "2aa475a1",
   "metadata": {},
   "outputs": [
    {
     "data": {
      "text/plain": [
       "['0 (-10000 shift)',\n",
       " '0 (-10000 shift_revcomp)',\n",
       " '0 (0 shift)',\n",
       " '0 (0 shift_revcomp)',\n",
       " '0 (10000 shift)',\n",
       " '0 (10000 shift_revcomp)',\n",
       " '1 (-10000 shift)',\n",
       " '1 (-10000 shift_revcomp)',\n",
       " '1 (0 shift)',\n",
       " '1 (0 shift_revcomp)']"
      ]
     },
     "execution_count": 106,
     "metadata": {},
     "output_type": "execute_result"
    }
   ],
   "source": [
    "# Read log file\n",
    "\n",
    "with open('test/output/run_test_SV_log') as f: # f'{out_file}_log'\n",
    "    log = f.read().splitlines()\n",
    "\n",
    "log[:10]"
   ]
  },
  {
   "cell_type": "code",
   "execution_count": 114,
   "id": "0950ec46",
   "metadata": {},
   "outputs": [
    {
     "name": "stdout",
     "output_type": "stream",
     "text": [
      "There are 5436 log messages so the counts below are out of 5436\n"
     ]
    }
   ],
   "source": [
    "print('There are',len(log),'log messages so the counts below are out of', len(log))"
   ]
  },
  {
   "cell_type": "markdown",
   "id": "f0c3e36e",
   "metadata": {},
   "source": [
    "### Warnings"
   ]
  },
  {
   "cell_type": "code",
   "execution_count": 107,
   "id": "1242c7e5",
   "metadata": {},
   "outputs": [
    {
     "data": {
      "text/plain": [
       "['7 (-10000 shift): Warning: Variant not centered; too close to chromosome arm ends.',\n",
       " '7 (-10000 shift_revcomp): Warning: Variant not centered; too close to chromosome arm ends.',\n",
       " '7 (0 shift): Warning: Variant not centered; too close to chromosome arm ends.',\n",
       " '7 (0 shift_revcomp): Warning: Variant not centered; too close to chromosome arm ends.',\n",
       " '7 (10000 shift): Warning: Variant not centered; too close to chromosome arm ends.',\n",
       " '7 (10000 shift_revcomp): Warning: Variant not centered; too close to chromosome arm ends.',\n",
       " '8 (-10000 shift): Warning: Variant not centered; too close to chromosome arm ends.',\n",
       " '8 (-10000 shift_revcomp): Warning: Variant not centered; too close to chromosome arm ends.',\n",
       " '8 (0 shift): Warning: Variant not centered; too close to chromosome arm ends.',\n",
       " '8 (0 shift_revcomp): Warning: Variant not centered; too close to chromosome arm ends.']"
      ]
     },
     "execution_count": 107,
     "metadata": {},
     "output_type": "execute_result"
    }
   ],
   "source": [
    "# Get perturbations that had warnings\n",
    "\n",
    "warnings = [x for x in log if 'Warning' in x]\n",
    "\n",
    "warnings[:10]"
   ]
  },
  {
   "cell_type": "code",
   "execution_count": 108,
   "id": "a860c5a2",
   "metadata": {},
   "outputs": [
    {
     "data": {
      "text/plain": [
       "Counter({'Variant not centered; too close to chromosome arm ends.': 168,\n",
       "         'Variant not centered; too close to chromosome arm ends': 1224})"
      ]
     },
     "execution_count": 108,
     "metadata": {},
     "output_type": "execute_result"
    }
   ],
   "source": [
    "# Get the number of each type of warning message\n",
    "\n",
    "Counter([x.split('Warning: ')[1] for x in warnings])"
   ]
  },
  {
   "cell_type": "code",
   "execution_count": 109,
   "id": "3f032b5e",
   "metadata": {},
   "outputs": [
    {
     "data": {
      "text/plain": [
       "array(['10', '102', '103', '11', '114', '115', '118', '119', '12', '13'],\n",
       "      dtype='<U3')"
      ]
     },
     "execution_count": 109,
     "metadata": {},
     "output_type": "execute_result"
    }
   ],
   "source": [
    "# Get list of perturbations (input row number) that have warnings in at least one of the conditions\n",
    "\n",
    "warning_rows = np.unique([x.split(' (')[0] for x in warnings])\n",
    "\n",
    "warning_rows[:10]"
   ]
  },
  {
   "cell_type": "markdown",
   "id": "aa605568",
   "metadata": {},
   "source": [
    "### Errors"
   ]
  },
  {
   "cell_type": "code",
   "execution_count": 123,
   "id": "3b9e90fd",
   "metadata": {},
   "outputs": [
    {
     "data": {
      "text/plain": [
       "['35 (-10000 shift): Error: Centromeric variant',\n",
       " '35 (-10000 shift_revcomp): Error: Centromeric variant',\n",
       " '35 (0 shift): Error: Centromeric variant',\n",
       " '35 (0 shift_revcomp): Error: Centromeric variant',\n",
       " '35 (10000 shift): Error: Centromeric variant',\n",
       " '35 (10000 shift_revcomp): Error: Centromeric variant',\n",
       " '36 (-10000 shift): Error: Centromeric variant',\n",
       " '36 (-10000 shift_revcomp): Error: Centromeric variant',\n",
       " '36 (0 shift): Error: Centromeric variant',\n",
       " '36 (0 shift_revcomp): Error: Centromeric variant']"
      ]
     },
     "execution_count": 123,
     "metadata": {},
     "output_type": "execute_result"
    }
   ],
   "source": [
    "# Get perturbations that had errors\n",
    "\n",
    "errors = [x for x in log if 'Error' in x]\n",
    "error_messages = [x.split('Error: ')[1] for x in errors]\n",
    "\n",
    "errors[:10]"
   ]
  },
  {
   "cell_type": "code",
   "execution_count": 150,
   "id": "3241fc34",
   "metadata": {},
   "outputs": [
    {
     "name": "stdout",
     "output_type": "stream",
     "text": [
      "get_seq expected error messages:\n",
      "\n",
      " ['Alternate sequence generated is not the right length.'\n",
      " 'Cannot generate 1Mb sequence for this chromosomal rearrangement.'\n",
      " 'Centromeric variant' 'N composition greater than 5%'\n",
      " 'Reference allele does not match hg38.'\n",
      " 'Reference sequence generated is not the right length.'\n",
      " 'SV type not supported.'\n",
      " 'Sequence for the alternate allele does not match hg38 at REF position.'\n",
      " 'Unexpected format: BND ALT does not include REF'\n",
      " 'Variant larger than set limit.'] \n",
      "\n",
      "\n",
      "get_scores expected error messages:\n",
      "\n",
      " ['Variant outside prediction window after cropping']\n"
     ]
    }
   ],
   "source": [
    "# These are all the expected error messages\n",
    "\n",
    "with open('get_seq_utils.py', 'r') as f:\n",
    "    get_seq_error_messages = np.unique([l.split('\\'')[1] for l in f if 'raise ValueError' in l])\n",
    "\n",
    "print('get_seq expected error messages:\\n\\n', get_seq_error_messages, '\\n\\n')\n",
    "\n",
    "with open('get_scores_utils.py', 'r') as f:\n",
    "    get_scores_error_messages = np.unique([l.split('\\'')[1] for l in f if 'raise ValueError' in l])\n",
    "\n",
    "print('get_scores expected error messages:\\n\\n', get_scores_error_messages)\n"
   ]
  },
  {
   "cell_type": "code",
   "execution_count": 124,
   "id": "525138e5",
   "metadata": {},
   "outputs": [
    {
     "data": {
      "text/plain": [
       "Counter({'Centromeric variant': 1626,\n",
       "         'Cannot generate 1Mb sequence for this chromosomal rearrangement.': 1152})"
      ]
     },
     "execution_count": 124,
     "metadata": {},
     "output_type": "execute_result"
    }
   ],
   "source": [
    "# Get the number of each type of expected error message\n",
    "\n",
    "Counter(error_messages)"
   ]
  },
  {
   "cell_type": "code",
   "execution_count": 141,
   "id": "b23e3bde",
   "metadata": {},
   "outputs": [
    {
     "name": "stdout",
     "output_type": "stream",
     "text": [
      "2778 get_seq error messages\n",
      "0 get_scores error messages\n"
     ]
    }
   ],
   "source": [
    "# Get number of get_seq and get_scores error messages\n",
    "\n",
    "print(len([x for x in error_messages if x in get_seq_error_messages]), 'get_seq error messages')\n",
    "print(len([x for x in error_messages if x in get_scores_error_messages]), 'get_scores error messages')"
   ]
  },
  {
   "cell_type": "code",
   "execution_count": 148,
   "id": "ca377227",
   "metadata": {},
   "outputs": [
    {
     "data": {
      "text/plain": [
       "[]"
      ]
     },
     "execution_count": 148,
     "metadata": {},
     "output_type": "execute_result"
    }
   ],
   "source": [
    "# Check if any of these errors are unexpected\n",
    "\n",
    "[x for x in error_messages if x not in get_seq_error_messages and x not in get_scores_error_messages]"
   ]
  },
  {
   "cell_type": "code",
   "execution_count": 149,
   "id": "210ddaa7",
   "metadata": {},
   "outputs": [
    {
     "data": {
      "text/plain": [
       "array(['100', '101', '104', '105', '106', '107', '110', '111', '116',\n",
       "       '117'], dtype='<U3')"
      ]
     },
     "execution_count": 149,
     "metadata": {},
     "output_type": "execute_result"
    }
   ],
   "source": [
    "# Get list of perturbations (input row number) that have errors in at least one of the conditions\n",
    "\n",
    "error_rows = np.unique([x.split(' (')[0] for x in errors])\n",
    "\n",
    "error_rows[:10]"
   ]
  },
  {
   "cell_type": "markdown",
   "id": "f0d55d89",
   "metadata": {},
   "source": [
    "## Scores file"
   ]
  },
  {
   "cell_type": "code",
   "execution_count": 6,
   "id": "64fa7841",
   "metadata": {},
   "outputs": [
    {
     "data": {
      "text/html": [
       "<div>\n",
       "<style scoped>\n",
       "    .dataframe tbody tr th:only-of-type {\n",
       "        vertical-align: middle;\n",
       "    }\n",
       "\n",
       "    .dataframe tbody tr th {\n",
       "        vertical-align: top;\n",
       "    }\n",
       "\n",
       "    .dataframe thead th {\n",
       "        text-align: right;\n",
       "    }\n",
       "</style>\n",
       "<table border=\"1\" class=\"dataframe\">\n",
       "  <thead>\n",
       "    <tr style=\"text-align: right;\">\n",
       "      <th></th>\n",
       "      <th>var_index</th>\n",
       "      <th>mse_-1</th>\n",
       "      <th>corr_-1</th>\n",
       "      <th>ssi_-1</th>\n",
       "      <th>mse_-1_revcomp</th>\n",
       "      <th>corr_-1_revcomp</th>\n",
       "      <th>ssi_-1_revcomp</th>\n",
       "      <th>mse_0</th>\n",
       "      <th>corr_0</th>\n",
       "      <th>ssi_0</th>\n",
       "    </tr>\n",
       "  </thead>\n",
       "  <tbody>\n",
       "    <tr>\n",
       "      <th>0</th>\n",
       "      <td>0</td>\n",
       "      <td>0.003009</td>\n",
       "      <td>0.984663</td>\n",
       "      <td>0.868784</td>\n",
       "      <td>0.009729</td>\n",
       "      <td>0.945812</td>\n",
       "      <td>0.819903</td>\n",
       "      <td>0.006867</td>\n",
       "      <td>0.960436</td>\n",
       "      <td>0.804799</td>\n",
       "    </tr>\n",
       "    <tr>\n",
       "      <th>1</th>\n",
       "      <td>1</td>\n",
       "      <td>0.004472</td>\n",
       "      <td>0.992411</td>\n",
       "      <td>0.894348</td>\n",
       "      <td>0.008358</td>\n",
       "      <td>0.989194</td>\n",
       "      <td>0.887001</td>\n",
       "      <td>0.004990</td>\n",
       "      <td>0.991197</td>\n",
       "      <td>0.883912</td>\n",
       "    </tr>\n",
       "    <tr>\n",
       "      <th>2</th>\n",
       "      <td>2</td>\n",
       "      <td>0.006182</td>\n",
       "      <td>0.989617</td>\n",
       "      <td>0.880776</td>\n",
       "      <td>0.005114</td>\n",
       "      <td>0.993450</td>\n",
       "      <td>0.913697</td>\n",
       "      <td>0.009294</td>\n",
       "      <td>0.984339</td>\n",
       "      <td>0.865941</td>\n",
       "    </tr>\n",
       "    <tr>\n",
       "      <th>3</th>\n",
       "      <td>3</td>\n",
       "      <td>0.014067</td>\n",
       "      <td>0.958523</td>\n",
       "      <td>0.781531</td>\n",
       "      <td>0.002888</td>\n",
       "      <td>0.992808</td>\n",
       "      <td>0.907482</td>\n",
       "      <td>0.004430</td>\n",
       "      <td>0.984087</td>\n",
       "      <td>0.867389</td>\n",
       "    </tr>\n",
       "    <tr>\n",
       "      <th>4</th>\n",
       "      <td>4</td>\n",
       "      <td>0.005012</td>\n",
       "      <td>0.973819</td>\n",
       "      <td>0.839552</td>\n",
       "      <td>0.002822</td>\n",
       "      <td>0.983123</td>\n",
       "      <td>0.875333</td>\n",
       "      <td>0.004997</td>\n",
       "      <td>0.980311</td>\n",
       "      <td>0.865158</td>\n",
       "    </tr>\n",
       "    <tr>\n",
       "      <th>5</th>\n",
       "      <td>5</td>\n",
       "      <td>0.003381</td>\n",
       "      <td>0.984231</td>\n",
       "      <td>0.846434</td>\n",
       "      <td>0.004742</td>\n",
       "      <td>0.974394</td>\n",
       "      <td>0.812070</td>\n",
       "      <td>0.003852</td>\n",
       "      <td>0.981589</td>\n",
       "      <td>0.860201</td>\n",
       "    </tr>\n",
       "    <tr>\n",
       "      <th>6</th>\n",
       "      <td>6</td>\n",
       "      <td>0.004194</td>\n",
       "      <td>0.964545</td>\n",
       "      <td>0.827798</td>\n",
       "      <td>0.005160</td>\n",
       "      <td>0.938284</td>\n",
       "      <td>0.792826</td>\n",
       "      <td>0.003161</td>\n",
       "      <td>0.979445</td>\n",
       "      <td>0.872490</td>\n",
       "    </tr>\n",
       "    <tr>\n",
       "      <th>7</th>\n",
       "      <td>7</td>\n",
       "      <td>0.003248</td>\n",
       "      <td>0.968563</td>\n",
       "      <td>0.842249</td>\n",
       "      <td>0.013756</td>\n",
       "      <td>0.846422</td>\n",
       "      <td>0.653562</td>\n",
       "      <td>0.005499</td>\n",
       "      <td>0.931995</td>\n",
       "      <td>0.736682</td>\n",
       "    </tr>\n",
       "    <tr>\n",
       "      <th>8</th>\n",
       "      <td>8</td>\n",
       "      <td>0.002732</td>\n",
       "      <td>0.878060</td>\n",
       "      <td>0.811992</td>\n",
       "      <td>0.001859</td>\n",
       "      <td>0.925405</td>\n",
       "      <td>0.800749</td>\n",
       "      <td>0.002384</td>\n",
       "      <td>0.885885</td>\n",
       "      <td>0.768294</td>\n",
       "    </tr>\n",
       "    <tr>\n",
       "      <th>9</th>\n",
       "      <td>9</td>\n",
       "      <td>0.003190</td>\n",
       "      <td>0.990839</td>\n",
       "      <td>0.897308</td>\n",
       "      <td>0.020391</td>\n",
       "      <td>0.942609</td>\n",
       "      <td>0.759524</td>\n",
       "      <td>0.003946</td>\n",
       "      <td>0.990144</td>\n",
       "      <td>0.890148</td>\n",
       "    </tr>\n",
       "  </tbody>\n",
       "</table>\n",
       "</div>"
      ],
      "text/plain": [
       "   var_index    mse_-1   corr_-1    ssi_-1  mse_-1_revcomp  corr_-1_revcomp  \\\n",
       "0          0  0.003009  0.984663  0.868784        0.009729         0.945812   \n",
       "1          1  0.004472  0.992411  0.894348        0.008358         0.989194   \n",
       "2          2  0.006182  0.989617  0.880776        0.005114         0.993450   \n",
       "3          3  0.014067  0.958523  0.781531        0.002888         0.992808   \n",
       "4          4  0.005012  0.973819  0.839552        0.002822         0.983123   \n",
       "5          5  0.003381  0.984231  0.846434        0.004742         0.974394   \n",
       "6          6  0.004194  0.964545  0.827798        0.005160         0.938284   \n",
       "7          7  0.003248  0.968563  0.842249        0.013756         0.846422   \n",
       "8          8  0.002732  0.878060  0.811992        0.001859         0.925405   \n",
       "9          9  0.003190  0.990839  0.897308        0.020391         0.942609   \n",
       "\n",
       "   ssi_-1_revcomp     mse_0    corr_0     ssi_0  \n",
       "0        0.819903  0.006867  0.960436  0.804799  \n",
       "1        0.887001  0.004990  0.991197  0.883912  \n",
       "2        0.913697  0.009294  0.984339  0.865941  \n",
       "3        0.907482  0.004430  0.984087  0.867389  \n",
       "4        0.875333  0.004997  0.980311  0.865158  \n",
       "5        0.812070  0.003852  0.981589  0.860201  \n",
       "6        0.792826  0.003161  0.979445  0.872490  \n",
       "7        0.653562  0.005499  0.931995  0.736682  \n",
       "8        0.800749  0.002384  0.885885  0.768294  \n",
       "9        0.759524  0.003946  0.990144  0.890148  "
      ]
     },
     "execution_count": 6,
     "metadata": {},
     "output_type": "execute_result"
    }
   ],
   "source": [
    "# Read scores file\n",
    "\n",
    "scores = pd.read_csv(f'{out_file}_scores', sep = '\\t')\n",
    "scores.iloc[:10,:10]"
   ]
  },
  {
   "cell_type": "code",
   "execution_count": 8,
   "id": "628a1304",
   "metadata": {},
   "outputs": [
    {
     "data": {
      "text/plain": [
       "Index(['mse_-1', 'corr_-1', 'ssi_-1', 'mse_-1_revcomp', 'corr_-1_revcomp',\n",
       "       'ssi_-1_revcomp', 'mse_0', 'corr_0', 'ssi_0', 'mse_0_revcomp',\n",
       "       'corr_0_revcomp', 'ssi_0_revcomp', 'mse_1', 'corr_1', 'ssi_1',\n",
       "       'mse_1_revcomp', 'corr_1_revcomp', 'ssi_1_revcomp'],\n",
       "      dtype='object')"
      ]
     },
     "execution_count": 8,
     "metadata": {},
     "output_type": "execute_result"
    }
   ],
   "source": [
    "# These are all the scores that were calculated \n",
    "scores.columns[1:]"
   ]
  },
  {
   "cell_type": "code",
   "execution_count": 165,
   "id": "ad562c0a",
   "metadata": {},
   "outputs": [
    {
     "data": {
      "text/html": [
       "<div>\n",
       "<style scoped>\n",
       "    .dataframe tbody tr th:only-of-type {\n",
       "        vertical-align: middle;\n",
       "    }\n",
       "\n",
       "    .dataframe tbody tr th {\n",
       "        vertical-align: top;\n",
       "    }\n",
       "\n",
       "    .dataframe thead th {\n",
       "        text-align: right;\n",
       "    }\n",
       "</style>\n",
       "<table border=\"1\" class=\"dataframe\">\n",
       "  <thead>\n",
       "    <tr style=\"text-align: right;\">\n",
       "      <th></th>\n",
       "      <th>CHROM</th>\n",
       "      <th>POS</th>\n",
       "      <th>END</th>\n",
       "      <th>REF</th>\n",
       "      <th>ALT</th>\n",
       "      <th>SVTYPE</th>\n",
       "      <th>SVLEN</th>\n",
       "      <th>var_index</th>\n",
       "      <th>mse_-1</th>\n",
       "      <th>corr_-1</th>\n",
       "    </tr>\n",
       "  </thead>\n",
       "  <tbody>\n",
       "    <tr>\n",
       "      <th>0</th>\n",
       "      <td>chr1</td>\n",
       "      <td>100276250</td>\n",
       "      <td>100276269</td>\n",
       "      <td>-</td>\n",
       "      <td>-</td>\n",
       "      <td>DEL</td>\n",
       "      <td>19</td>\n",
       "      <td>0</td>\n",
       "      <td>0.003009</td>\n",
       "      <td>0.984663</td>\n",
       "    </tr>\n",
       "    <tr>\n",
       "      <th>1</th>\n",
       "      <td>chr1</td>\n",
       "      <td>101106697</td>\n",
       "      <td>101106716</td>\n",
       "      <td>-</td>\n",
       "      <td>-</td>\n",
       "      <td>DEL</td>\n",
       "      <td>19</td>\n",
       "      <td>1</td>\n",
       "      <td>0.004472</td>\n",
       "      <td>0.992411</td>\n",
       "    </tr>\n",
       "    <tr>\n",
       "      <th>2</th>\n",
       "      <td>chr1</td>\n",
       "      <td>101159421</td>\n",
       "      <td>101159440</td>\n",
       "      <td>-</td>\n",
       "      <td>-</td>\n",
       "      <td>DEL</td>\n",
       "      <td>19</td>\n",
       "      <td>2</td>\n",
       "      <td>0.006182</td>\n",
       "      <td>0.989617</td>\n",
       "    </tr>\n",
       "    <tr>\n",
       "      <th>3</th>\n",
       "      <td>chr1</td>\n",
       "      <td>101442377</td>\n",
       "      <td>101442396</td>\n",
       "      <td>-</td>\n",
       "      <td>-</td>\n",
       "      <td>DEL</td>\n",
       "      <td>19</td>\n",
       "      <td>3</td>\n",
       "      <td>0.014067</td>\n",
       "      <td>0.958523</td>\n",
       "    </tr>\n",
       "    <tr>\n",
       "      <th>4</th>\n",
       "      <td>chr1</td>\n",
       "      <td>101526743</td>\n",
       "      <td>101526762</td>\n",
       "      <td>-</td>\n",
       "      <td>-</td>\n",
       "      <td>DEL</td>\n",
       "      <td>19</td>\n",
       "      <td>4</td>\n",
       "      <td>0.005012</td>\n",
       "      <td>0.973819</td>\n",
       "    </tr>\n",
       "    <tr>\n",
       "      <th>5</th>\n",
       "      <td>chr1</td>\n",
       "      <td>101595702</td>\n",
       "      <td>101595721</td>\n",
       "      <td>-</td>\n",
       "      <td>-</td>\n",
       "      <td>DEL</td>\n",
       "      <td>19</td>\n",
       "      <td>5</td>\n",
       "      <td>0.003381</td>\n",
       "      <td>0.984231</td>\n",
       "    </tr>\n",
       "    <tr>\n",
       "      <th>6</th>\n",
       "      <td>chr1</td>\n",
       "      <td>101693506</td>\n",
       "      <td>101693525</td>\n",
       "      <td>-</td>\n",
       "      <td>-</td>\n",
       "      <td>DEL</td>\n",
       "      <td>19</td>\n",
       "      <td>6</td>\n",
       "      <td>0.004194</td>\n",
       "      <td>0.964545</td>\n",
       "    </tr>\n",
       "    <tr>\n",
       "      <th>7</th>\n",
       "      <td>chr1</td>\n",
       "      <td>101744879</td>\n",
       "      <td>101744898</td>\n",
       "      <td>-</td>\n",
       "      <td>-</td>\n",
       "      <td>DEL</td>\n",
       "      <td>19</td>\n",
       "      <td>7</td>\n",
       "      <td>0.003248</td>\n",
       "      <td>0.968563</td>\n",
       "    </tr>\n",
       "    <tr>\n",
       "      <th>8</th>\n",
       "      <td>chr1</td>\n",
       "      <td>102007853</td>\n",
       "      <td>102007872</td>\n",
       "      <td>-</td>\n",
       "      <td>-</td>\n",
       "      <td>DEL</td>\n",
       "      <td>19</td>\n",
       "      <td>8</td>\n",
       "      <td>0.002732</td>\n",
       "      <td>0.878060</td>\n",
       "    </tr>\n",
       "    <tr>\n",
       "      <th>9</th>\n",
       "      <td>chr1</td>\n",
       "      <td>10192988</td>\n",
       "      <td>10193007</td>\n",
       "      <td>-</td>\n",
       "      <td>-</td>\n",
       "      <td>DEL</td>\n",
       "      <td>19</td>\n",
       "      <td>9</td>\n",
       "      <td>0.003190</td>\n",
       "      <td>0.990839</td>\n",
       "    </tr>\n",
       "  </tbody>\n",
       "</table>\n",
       "</div>"
      ],
      "text/plain": [
       "  CHROM        POS        END REF ALT SVTYPE  SVLEN  var_index    mse_-1  \\\n",
       "0  chr1  100276250  100276269   -   -    DEL     19          0  0.003009   \n",
       "1  chr1  101106697  101106716   -   -    DEL     19          1  0.004472   \n",
       "2  chr1  101159421  101159440   -   -    DEL     19          2  0.006182   \n",
       "3  chr1  101442377  101442396   -   -    DEL     19          3  0.014067   \n",
       "4  chr1  101526743  101526762   -   -    DEL     19          4  0.005012   \n",
       "5  chr1  101595702  101595721   -   -    DEL     19          5  0.003381   \n",
       "6  chr1  101693506  101693525   -   -    DEL     19          6  0.004194   \n",
       "7  chr1  101744879  101744898   -   -    DEL     19          7  0.003248   \n",
       "8  chr1  102007853  102007872   -   -    DEL     19          8  0.002732   \n",
       "9  chr1   10192988   10193007   -   -    DEL     19          9  0.003190   \n",
       "\n",
       "    corr_-1  \n",
       "0  0.984663  \n",
       "1  0.992411  \n",
       "2  0.989617  \n",
       "3  0.958523  \n",
       "4  0.973819  \n",
       "5  0.984231  \n",
       "6  0.964545  \n",
       "7  0.968563  \n",
       "8  0.878060  \n",
       "9  0.990839  "
      ]
     },
     "execution_count": 165,
     "metadata": {},
     "output_type": "execute_result"
    }
   ],
   "source": [
    "# Add scores dataframe to input dataframe\n",
    "\n",
    "scores = pd.concat([pd.read_csv(in_file, sep = '\\t'), scores], axis = 1)\n",
    "scores.iloc[:10,:10]"
   ]
  },
  {
   "cell_type": "markdown",
   "id": "a2b4e7ac",
   "metadata": {},
   "source": [
    "# Compare scores"
   ]
  },
  {
   "cell_type": "code",
   "execution_count": 11,
   "id": "c8881c61",
   "metadata": {},
   "outputs": [],
   "source": [
    "import matplotlib.pyplot as plt\n",
    "from scipy import stats"
   ]
  },
  {
   "cell_type": "code",
   "execution_count": null,
   "id": "759962eb",
   "metadata": {},
   "outputs": [],
   "source": [
    "# Function for plotting 2 variables and getting the correlation between them\n",
    "\n",
    "def compare_scores(x_axis, x_axis_label, y_axis, y_axis_label):\n",
    "    plt.scatter(x_axis, y_axis)\n",
    "\n",
    "    plt.xlabel(x_axis_label)\n",
    "    plt.ylabel(y_axis_label,rotation=90)\n",
    "\n",
    "    z = np.polyfit(x_axis, y_axis, 1)\n",
    "    p = np.poly1d(z)\n",
    "    plt.plot(x_axis,p(x_axis),\"r--\")\n",
    "\n",
    "    print(f'correlation between {x_axis_label} and {y_axis_label} =', stats.spearmanr(x_axis, y_axis)[0])\n",
    "\n",
    "    plt.show()"
   ]
  },
  {
   "cell_type": "code",
   "execution_count": 21,
   "id": "11ae56dd",
   "metadata": {},
   "outputs": [
    {
     "name": "stdout",
     "output_type": "stream",
     "text": [
      "correlation between Mean squared error and Spearman correlation = 0.33560624249699883\n"
     ]
    },
    {
     "data": {
      "image/png": "[encoded data removed]",
      "text/plain": [
       "<Figure size 640x480 with 1 Axes>"
      ]
     },
     "metadata": {},
     "output_type": "display_data"
    }
   ],
   "source": [
    "# Compare scoring methods\n",
    "compare_scores(scores.mse_0, 'Mean squared error', 1 - scores.corr_0, 'Spearman correlation')"
   ]
  },
  {
   "cell_type": "code",
   "execution_count": 23,
   "id": "9d019cc5",
   "metadata": {},
   "outputs": [
    {
     "name": "stdout",
     "output_type": "stream",
     "text": [
      "correlation between No shift and Shift = 0.31188475390156056\n"
     ]
    },
    {
     "data": {
      "image/png": "[encoded data removed]",
      "text/plain": [
       "<Figure size 640x480 with 1 Axes>"
      ]
     },
     "metadata": {},
     "output_type": "display_data"
    }
   ],
   "source": [
    "# Compare augmentated scores\n",
    "\n",
    "scoring_method = 'mse'\n",
    "shift = '-1'\n",
    "\n",
    "no_shift = scores[f'{scoring_method}_0']\n",
    "shift = scores[f'{scoring_method}_{shift}']\n",
    "\n",
    "compare_scores(no_shift, 'No shift', shift, 'Shift')"
   ]
  },
  {
   "cell_type": "markdown",
   "id": "c84c9bc4",
   "metadata": {},
   "source": [
    "## Rank perturbations"
   ]
  },
  {
   "cell_type": "code",
   "execution_count": null,
   "id": "e6749c4d",
   "metadata": {},
   "outputs": [],
   "source": [
    "#  - get most disruptive CTCF site"
   ]
  },
  {
   "cell_type": "code",
   "execution_count": null,
   "id": "c029ba45",
   "metadata": {},
   "outputs": [],
   "source": []
  },
  {
   "cell_type": "code",
   "execution_count": null,
   "id": "74428112",
   "metadata": {},
   "outputs": [],
   "source": []
  },
  {
   "cell_type": "code",
   "execution_count": null,
   "id": "80d4bbd6",
   "metadata": {},
   "outputs": [],
   "source": []
  },
  {
   "cell_type": "markdown",
   "id": "7351424d",
   "metadata": {},
   "source": [
    "# Plot maps"
   ]
  },
  {
   "cell_type": "markdown",
   "id": "9d192203",
   "metadata": {},
   "source": [
    "# Plot disruption tracks"
   ]
  },
  {
   "cell_type": "code",
   "execution_count": null,
   "id": "91120dbe",
   "metadata": {},
   "outputs": [],
   "source": []
  },
  {
   "cell_type": "code",
   "execution_count": null,
   "id": "a1ceecdf",
   "metadata": {},
   "outputs": [],
   "source": []
  },
  {
   "cell_type": "code",
   "execution_count": null,
   "id": "6249dbce",
   "metadata": {},
   "outputs": [],
   "source": []
  },
  {
   "cell_type": "code",
   "execution_count": null,
   "id": "7858034c",
   "metadata": {},
   "outputs": [],
   "source": []
  }
 ],
 "metadata": {
  "kernelspec": {
   "display_name": "Python 3",
   "language": "python",
   "name": "python3"
  },
  "language_info": {
   "codemirror_mode": {
    "name": "ipython",
    "version": 3
   },
   "file_extension": ".py",
   "mimetype": "text/x-python",
   "name": "python",
   "nbconvert_exporter": "python",
   "pygments_lexer": "ipython3",
   "version": "3.7.11"
  },
  "toc": {
   "base_numbering": 1,
   "nav_menu": {},
   "number_sections": true,
   "sideBar": true,
   "skip_h1_title": false,
   "title_cell": "Table of Contents",
   "title_sidebar": "Contents",
   "toc_cell": false,
   "toc_position": {},
   "toc_section_display": true,
   "toc_window_display": true
  }
 },
 "nbformat": 4,
 "nbformat_minor": 5
}
