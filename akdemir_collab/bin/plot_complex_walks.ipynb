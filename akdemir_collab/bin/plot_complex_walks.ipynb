{
 "cells": [
  {
   "cell_type": "code",
   "execution_count": 1,
   "id": "f0feba18",
   "metadata": {},
   "outputs": [],
   "source": [
    "%load_ext autoreload\n",
    "%autoreload 2"
   ]
  },
  {
   "cell_type": "code",
   "execution_count": 20,
   "id": "d7342ec2",
   "metadata": {},
   "outputs": [],
   "source": [
    "import akita_utils_forplotting as utils\n",
    "import numpy as np\n",
    "import pandas as pd\n",
    "import sys, os, psutil, time \n",
    "import matplotlib.pyplot as plt\n",
    "import pysam\n",
    "\n",
    "\n",
    "\n",
    "#from optparse import OptionParser\n",
    "\n",
    "\n",
    "nt = ['A', 'T', 'C', 'G']"
   ]
  },
  {
   "cell_type": "code",
   "execution_count": 3,
   "id": "e4e08c4d",
   "metadata": {},
   "outputs": [
    {
     "name": "stdout",
     "output_type": "stream",
     "text": [
      "[{'name': 'one_to_two', 'operation': 'mean'}, {'name': 'concat_dist_2d'}, {'name': 'conv_block_2d', 'filters': 48, 'kernel_size': 3}, {'name': 'symmetrize_2d'}, {'name': 'dilated_residual_2d', 'filters': 24, 'kernel_size': 3, 'rate_mult': 1.75, 'repeat': 6, 'dropout': 0.1}, {'name': 'cropping_2d', 'cropping': 32}, {'name': 'upper_tri', 'diagonal_offset': 2}, {'name': 'final', 'units': 5, 'activation': 'linear'}]\n"
     ]
    }
   ],
   "source": [
    "print(utils.hic_params)"
   ]
  },
  {
   "cell_type": "code",
   "execution_count": 4,
   "id": "7b0d95b2",
   "metadata": {},
   "outputs": [
    {
     "data": {
      "text/plain": [
       "-30"
      ]
     },
     "execution_count": 4,
     "metadata": {},
     "output_type": "execute_result"
    }
   ],
   "source": [
    "utils.get_bin(2500)"
   ]
  },
  {
   "cell_type": "code",
   "execution_count": 5,
   "id": "34be982a",
   "metadata": {},
   "outputs": [
    {
     "name": "stdout",
     "output_type": "stream",
     "text": [
      "512\n"
     ]
    }
   ],
   "source": [
    "print(utils.target_length)"
   ]
  },
  {
   "cell_type": "code",
   "execution_count": 17,
   "id": "fee20d8c",
   "metadata": {},
   "outputs": [
    {
     "data": {
      "text/plain": [
       "448"
      ]
     },
     "execution_count": 17,
     "metadata": {},
     "output_type": "execute_result"
    }
   ],
   "source": [
    "utils.target_length_cropped"
   ]
  },
  {
   "cell_type": "code",
   "execution_count": 7,
   "id": "17169bc3",
   "metadata": {},
   "outputs": [],
   "source": [
    "#REMEMBER!!!!!!! +1MB SEQUENCE GOES IN, BUT MAKES PREDICTION FOR 917504BP\n",
    "#1MB CORRESPONDS TO 512, 2048 BP BINS THAT GETS CUT DOWN TO 448 BINS "
   ]
  },
  {
   "cell_type": "code",
   "execution_count": 8,
   "id": "c7afd45e",
   "metadata": {},
   "outputs": [
    {
     "data": {
      "text/html": [
       "<div>\n",
       "<style scoped>\n",
       "    .dataframe tbody tr th:only-of-type {\n",
       "        vertical-align: middle;\n",
       "    }\n",
       "\n",
       "    .dataframe tbody tr th {\n",
       "        vertical-align: top;\n",
       "    }\n",
       "\n",
       "    .dataframe thead th {\n",
       "        text-align: right;\n",
       "    }\n",
       "</style>\n",
       "<table border=\"1\" class=\"dataframe\">\n",
       "  <thead>\n",
       "    <tr style=\"text-align: right;\">\n",
       "      <th></th>\n",
       "      <th>CHROM</th>\n",
       "      <th>start_gene</th>\n",
       "      <th>end_gene</th>\n",
       "      <th>Gene</th>\n",
       "    </tr>\n",
       "  </thead>\n",
       "  <tbody>\n",
       "    <tr>\n",
       "      <th>0</th>\n",
       "      <td>chr1</td>\n",
       "      <td>11869</td>\n",
       "      <td>14409</td>\n",
       "      <td>DDX11L1</td>\n",
       "    </tr>\n",
       "    <tr>\n",
       "      <th>1</th>\n",
       "      <td>chr1</td>\n",
       "      <td>14404</td>\n",
       "      <td>29570</td>\n",
       "      <td>WASH7P</td>\n",
       "    </tr>\n",
       "    <tr>\n",
       "      <th>2</th>\n",
       "      <td>chr1</td>\n",
       "      <td>17369</td>\n",
       "      <td>17436</td>\n",
       "      <td>MIR6859-1</td>\n",
       "    </tr>\n",
       "    <tr>\n",
       "      <th>3</th>\n",
       "      <td>chr1</td>\n",
       "      <td>29554</td>\n",
       "      <td>31109</td>\n",
       "      <td>MIR1302-2HG</td>\n",
       "    </tr>\n",
       "    <tr>\n",
       "      <th>4</th>\n",
       "      <td>chr1</td>\n",
       "      <td>30366</td>\n",
       "      <td>30503</td>\n",
       "      <td>MIR1302-2</td>\n",
       "    </tr>\n",
       "  </tbody>\n",
       "</table>\n",
       "</div>"
      ],
      "text/plain": [
       "  CHROM  start_gene  end_gene         Gene\n",
       "0  chr1       11869     14409      DDX11L1\n",
       "1  chr1       14404     29570       WASH7P\n",
       "2  chr1       17369     17436    MIR6859-1\n",
       "3  chr1       29554     31109  MIR1302-2HG\n",
       "4  chr1       30366     30503    MIR1302-2"
      ]
     },
     "execution_count": 8,
     "metadata": {},
     "output_type": "execute_result"
    }
   ],
   "source": [
    "#TOTAL AKITA INPUT LENGTH \n",
    "\n",
    "akita_seq_len=1048576\n",
    "\n",
    "#HG38 REF FA\n",
    "hg38_file = '/pollard/home/shzhang/akita/run_akita/refs/hg38.fa'\n",
    "fasta_hg38 = pysam.Fastafile(hg38_file)\n",
    "\n",
    "#GENCODE\n",
    "gene_annot = pd.read_csv('/pollard/data/genetics/GENCODE/release32/gencode.v32.genes_only.bed', sep = '\\t', names = ['CHROM', 'start_gene', 'end_gene', 'Gene'])\n",
    "gene_annot[gene_annot.CHROM != 'chrM']\n",
    "gene_annot.head()"
   ]
  },
  {
   "cell_type": "code",
   "execution_count": 9,
   "id": "49069585",
   "metadata": {},
   "outputs": [
    {
     "data": {
      "text/plain": [
       "3597.0"
      ]
     },
     "execution_count": 9,
     "metadata": {},
     "output_type": "execute_result"
    }
   ],
   "source": [
    "gene_annot['span']=gene_annot.end_gene-gene_annot.start_gene\n",
    "np.median(gene_annot.span)\n",
    "#plt.hist(gene_annot['span'], bins=100)\n",
    "#plt.show()"
   ]
  },
  {
   "cell_type": "code",
   "execution_count": 70,
   "id": "2134217e",
   "metadata": {},
   "outputs": [],
   "source": [
    "#data directories\n",
    "date = '20230726'\n",
    "d='/pollard/home/shzhang/akita_variant_scoring/akdemir_collab/'\n",
    "data_dir = d + 'data/'\n",
    "fig_dir = d + 'figs/' + date + '/'\n",
    "\n",
    "#two folders are colab_fasta and new_fasta"
   ]
  },
  {
   "cell_type": "code",
   "execution_count": 11,
   "id": "b45e55ca",
   "metadata": {},
   "outputs": [],
   "source": [
    "#! ls /pollard/home/shzhang/akita_variant_scoring/akdemir_collab/data/new_fasta/walks.bed"
   ]
  },
  {
   "cell_type": "code",
   "execution_count": 93,
   "id": "f9c3ceb4",
   "metadata": {},
   "outputs": [],
   "source": [
    "#write separate plotting function so this isn't too messy\n",
    "#for plotting post akita predictions \n",
    "\n",
    "def plot_complex_pred(ALT_mat, REF_mat, ALT_label, REF_label, gene_length):\n",
    "    print('plotting ' + ALT_label)\n",
    "    \n",
    "    #add an option to get bins of gene boundaries based on the gene size \n",
    "    bin_start=utils.get_bin(utils.half_patch_size - round(gene_length/2))\n",
    "    bin_end=utils.get_bin(utils.half_patch_size + round(gene_length/2))\n",
    "     \n",
    "    plt.figure(figsize=(8,4))\n",
    "    target_index = 0\n",
    "    vmin=-2; vmax=2\n",
    "\n",
    "    plt.subplot(121) \n",
    "    im = plt.matshow(ALT_mat, fignum=False, cmap= 'RdBu_r', vmax=vmax, vmin=vmin)\n",
    "    plt.axvline(x = bin_start, color = 'b', linestyle = '--', linewidth=1, label = 'gene start')\n",
    "    plt.axvline(x = bin_end, color = 'b', linestyle='--', linewidth=1, label = 'gene end')\n",
    "    plt.colorbar(im, fraction=.04, pad = 0.05, ticks=[-2,-1, 0, 1,2]);\n",
    "    #plt.title('ALT Prediction' + '\\n' + '{} at {}:{}-{}'.format(SVTYPE, CHR, POS, END),y=1.15 )\n",
    "    plt.title('ALT Prediction: \\n ' + ALT_label, y=1.15)\n",
    "\n",
    "    plt.subplot(122) \n",
    "    im = plt.matshow(REF_mat, fignum=False, cmap= 'RdBu_r', vmax=vmax, vmin=vmin)\n",
    "    plt.axvline(x = bin_start, color = 'b', linestyle='--', linewidth=1, label = 'gene start')\n",
    "    plt.axvline(x = bin_end, color = 'b', linestyle='--', linewidth=1, label = 'gene end')\n",
    "    plt.colorbar(im, fraction=.04, pad = 0.05, ticks=[-2,-1, 0, 1,2]);\n",
    "    plt.title('REF Prediction' + '\\n' + REF_label, y=1.15 )\n",
    "    \n",
    "\n",
    "    plt.tight_layout()\n",
    "    plt.savefig('{}{}_{}.pdf'.format(fig_dir, date, ALT_label), dpi=300)   # save the figure to file\n",
    "    plt.close('all')"
   ]
  },
  {
   "cell_type": "code",
   "execution_count": 67,
   "id": "85863bba",
   "metadata": {},
   "outputs": [],
   "source": [
    "def read_fasta(fa):\n",
    "    '''\n",
    "    read in fasta file and return sequence only \n",
    "    '''\n",
    "    \n",
    "    seq=''\n",
    "    with open(fa, \"r\") as fa_file:\n",
    "        for line in fa_file:\n",
    "            if not (line.startswith('>')):\n",
    "                seq += line.strip()\n",
    "    fa_file.close()\n",
    "                \n",
    "    return(seq)\n",
    "    "
   ]
  },
  {
   "cell_type": "code",
   "execution_count": 68,
   "id": "3ee45cd7",
   "metadata": {},
   "outputs": [
    {
     "data": {
      "text/plain": [
       "'NNNNNNNNNN'"
      ]
     },
     "execution_count": 68,
     "metadata": {},
     "output_type": "execute_result"
    }
   ],
   "source": [
    "fasta_hg38.fetch('chr1', 0, 10).upper()"
   ]
  },
  {
   "cell_type": "code",
   "execution_count": 95,
   "id": "8bd03a24",
   "metadata": {},
   "outputs": [
    {
     "name": "stdout",
     "output_type": "stream",
     "text": [
      "plotting SMF-12-12_walk_4_KRAS_containing\n",
      "plotting SMF-12-12_walk_5_MDM2_containing\n",
      "plotting SMF-12-7_walk_4_SKI_containing\n",
      "plotting SMF-12-9_walk_4_MOS_containing\n",
      "plotting SMF-12-15_walk_10_MYC_containing\n",
      "plotting SMF-12-23_walk_11_GLI1_containing\n",
      "plotting SMF-12-16_walk_5_MCF2_containing\n",
      "plotting SMF-12-15_walk_6_MYC_containing\n",
      "plotting SMF-12-17_walk_9_MDM2_containing\n",
      "plotting SMF-12-23_walk_8_MDM2_containing\n",
      "plotting SMF-12-12_walk_3_KRAS_containing\n",
      "plotting SMF-12-12_walk_2_MDM2_containing\n",
      "plotting SMF-12-17_walk_5_MDM2_containing\n",
      "plotting SMF-12-12_walk_7_MDM2_containing\n",
      "plotting SMF-12-7_walk_5_SKI_containing\n",
      "plotting SMF-12-23_walk_11_MDM2_containing\n",
      "plotting SMF-12-12_walk_5_GLI1_containing\n",
      "plotting SMF-12-15_walk_7_MYC_containing\n",
      "plotting SMF-12-17_walk_5_GLI1_containing\n",
      "plotting SMF-12-17_walk_7_MDM2_containing\n",
      "plotting SMF-12-18_walk_2_TCF3_containing\n",
      "plotting SMF-12-18_walk_5_MDM2_containing\n",
      "plotting SMF-12-17_walk_4_GLI1_containing\n",
      "plotting SMF-12-14_walk_10_MYC_containing\n",
      "plotting SMF-12-23_walk_9_GLI1_containing\n",
      "plotting SMF-12-17_walk_6_MDM2_containing\n",
      "plotting SMF-12-18_walk_4_MDM2_containing\n",
      "plotting SMF-12-17_walk_3_GLI1_containing\n",
      "plotting SMF-12-23_walk_10_MDM2_containing\n",
      "plotting SMF-12-16_walk_9_MYC_containing\n",
      "plotting SMF-12-12_walk_6_MDM2_containing\n",
      "plotting SMF-12-12_walk_4_GLI1_containing\n",
      "plotting SMF-12-15_walk_9_MYC_containing\n",
      "plotting SMF-12-18_walk_3_MDM2_containing\n",
      "plotting SMF-12-16_walk_2_VHL_containing\n",
      "plotting SMF-12-12_walk_3_MDM2_containing\n",
      "plotting SMF-12-18_walk_4_GLI1_containing\n",
      "plotting SMF-12-17_walk_8_MDM2_containing\n",
      "plotting SMF-12-23_walk_9_MDM2_containing\n",
      "plotting SMF-12-17_walk_4_MDM2_containing\n",
      "plotting SMF-12-12_walk_5_KRAS_containing\n",
      "plotting SMF-12-12_walk_4_MDM2_containing\n",
      "plotting SMF-12-15_walk_8_MYC_containing\n",
      "plotting SMF-12-23_walk_10_GLI1_containing\n",
      "plotting SMF-12-17_walk_3_MDM2_containing\n"
     ]
    }
   ],
   "source": [
    "#make akita predictions for each walk and plot \n",
    "for i in os.listdir(data_dir + 'new_fasta/walks.fasta'):\n",
    "    #print(i)\n",
    "    bed_name=i[:-3] +'.bed'\n",
    "    name_parts = i.rsplit('_', 2)\n",
    "\n",
    "    gencode_coord=gene_annot[gene_annot.Gene == name_parts[1]]    \n",
    "    gene_len=abs(gencode_coord.end_gene-gencode_coord.start_gene)\n",
    "    gene_mid_coord=np.floor(gencode_coord.start_gene + (gene_len/2))\n",
    "    #print('gene mid coord', gene_mid_coord)\n",
    "    #print('gencode coord', gencode_coord)\n",
    "    \n",
    "    #read in bed file and figure out where to center the file \n",
    "    bed=pd.read_csv(data_dir+ 'new_fasta/walks.bed/' + bed_name, sep='\\t', header=None)\n",
    "    #rename columns\n",
    "    bed.columns = ['chr', 'start', 'end', 'strand', '4', '5']\n",
    "    bed['chr'] = bed['chr'].astype('str') \n",
    "    #get spans of each walk \n",
    "    bed['span']=abs(bed['end']-bed['start']) \n",
    "    #print(bed)\n",
    "    \n",
    "    #print('bed span', np.sum(bed['span']))\n",
    "\n",
    "\n",
    "    #get the row where gene_mid_coord \n",
    "    #print(gencode_coord['CHROM'])\n",
    "    condition = ((bed['chr']==gencode_coord.CHROM.values[0])\n",
    "                & (bed['start'] <= int(gene_mid_coord)) & (int(gene_mid_coord) <= bed['end']) ) \n",
    "\n",
    "    #pd.set_option('display.max_rows', None)\n",
    "    #print('condition', condition.index[condition])\n",
    "    #in cases where the middle of the gene shows up more than once, just takes first instance \n",
    "    row_midgene = (condition.index[condition].tolist())[0]\n",
    "\n",
    "    #print('row_midgene index', row_midgene)\n",
    "        \n",
    "        \n",
    "\n",
    "    #get span for the entire walk up to the middle of the gene \n",
    "    bed_row=bed.iloc[row_midgene, :]\n",
    "    #print('bed_Row', bed_row)\n",
    "    #print('gene row span', np.sum(bed_row['span']))\n",
    "    #print('gene_mid_Coord', gene_mid_coord)\n",
    "    if row_midgene>0:\n",
    "        bed_begin=bed.iloc[0:row_midgene, :]\n",
    "        #print('bed_begin', bed_begin)\n",
    "        first_half_span=(np.sum(bed_begin['span'])) + int(gene_mid_coord-bed_row['start'])\n",
    "        bed_before=pd.concat([bed_begin, bed_row])\n",
    "\n",
    "    else:\n",
    "        first_half_span=int(gene_mid_coord-bed_row['start'])\n",
    "        bed_before=bed_row\n",
    "    #print('bed_before', bed_row)\n",
    "            \n",
    "    #then, get span for entire walk from middle of gene to end \n",
    "    if row_midgene<(len(bed)-1):\n",
    "        bed_end=bed.iloc[(row_midgene+1):len(bed), :]\n",
    "        #print('bed_end', bed_end)\n",
    "        second_half_span=(np.sum(bed_end['span'])) + int(bed_row['end']-gene_mid_coord)\n",
    "    else:\n",
    "        second_half_span=int(bed_row['end']-gene_mid_coord)\n",
    "        \n",
    "\n",
    "        \n",
    "    #print('first_half_span', first_half_span)\n",
    "    #print('second half span', second_half_span)\n",
    "        \n",
    "    try:\n",
    "        \n",
    "        #read in fasta file \n",
    "        seq=read_fasta(data_dir + 'new_fasta/walks.fasta/' + i)\n",
    "        \n",
    "        \n",
    "        #define start and end coordinates of reference matrices\n",
    "        #currently, just centered around the middle of the gene of interest\n",
    "        \n",
    "        CHR = gencode_coord.CHROM.values[0]\n",
    "        POS = int(gene_mid_coord-utils.half_patch_size)\n",
    "        END= int(POS+utils.seq_length)\n",
    "        REF_seq = fasta_hg38.fetch(CHR, POS, END).upper()\n",
    "     \n",
    "    \n",
    "        #define ALT from fasta sequences given to us       \n",
    "        #check length of walk start to middle of gene, must be at lesat half of akita_seq_len\n",
    "        mid_seq_idx=0\n",
    "        if first_half_span>=(utils.half_patch_size):\n",
    "        \n",
    "            #get start of ALT sequence \n",
    "            ALT_L_start=first_half_span-(utils.half_patch_size)\n",
    "            ALT_seq_left=seq[ALT_L_start:(ALT_L_start + utils.half_patch_size)]\n",
    "            mid_seq_idx=(ALT_L_start + utils.half_patch_size)\n",
    "        else:\n",
    "            \n",
    "            #get remainder of sequence from reference\n",
    "            pad_REF_len=utils.half_patch_size-first_half_span            \n",
    "            left_REF_pad = fasta_hg38.fetch(bed_row['chr'], bed_row['start']-pad_REF_len, bed_row['start']).upper()\n",
    "            \n",
    "            ALT_seq_left=left_REF_pad + seq[0:first_half_span]\n",
    "            mid_seq_idx=first_half_span\n",
    "        \n",
    "        \n",
    "        if second_half_span>=(utils.half_patch_size):\n",
    "            #print('alt l start', ALT_L_start)\n",
    "            ALT_seq_right=seq[mid_seq_idx:(mid_seq_idx + utils.half_patch_size)]\n",
    "            #print('ALT SEQ RIGHT LEN', len(ALT_seq_right))\n",
    "                \n",
    "        else:\n",
    "            pad_REF_len=utils.half_patch_size-second_half_span            \n",
    "            right_REF_pad = fasta_hg38.fetch(bed_row['chr'], bed_row['end'], bed_row['end'] + pad_REF_len).upper()\n",
    "            \n",
    "            ALT_seq_right=seq[mid_seq_idx:len(seq)] + right_REF_pad\n",
    "        \n",
    "        \n",
    "        #print('ALT SEQ LEFT' , len(ALT_seq_left))\n",
    "        #print('ALT SEQ RIGHT' , len(ALT_seq_right))\n",
    "        \n",
    "        ALT_seq=ALT_seq_left + ALT_seq_right\n",
    "            \n",
    "        ####################\n",
    "        \n",
    "        assert len(REF_seq) == utils.seq_length, 'REF_seq is not right length'\n",
    "        assert len(ALT_seq) == utils.seq_length, 'ALT_seq is not right length'\n",
    "        #print(REF_seq[1:10])\n",
    "        #print(ALT_seq[1:10])\n",
    "    \n",
    "        #this is where akita is actually run, output vector size is (99681,)\n",
    "        REF_vector, ALT_vector = utils.vector_from_seq(REF_seq), utils.vector_from_seq(ALT_seq)\n",
    "        REF_mat, ALT_mat = utils.mat_from_vector(REF_vector), utils.mat_from_vector(ALT_vector)\n",
    "            \n",
    "        #NOW, PLOT! AND SAVE! \n",
    "        ALT_label=i[:-3]\n",
    "        REF_label='{}:{}-{}'.format(CHR, POS, END)\n",
    "        plot_complex_pred(ALT_mat, REF_mat, ALT_label, REF_label, gene_len)\n",
    "            \n",
    "        \n",
    "    except:\n",
    "        #for the input sequences where first half is less than 0.5 Mb, will need to pad the ends \n",
    "        #i think we will just assume that we can pull from ref both before and after? \n",
    "        #print(i + ' is less than 1Mb in length, will deal with later ')\n",
    "        \n",
    "        \n",
    "        print('error!!!! in file ', i )\n",
    "        \n",
    "        \n",
    "        #if gene center is too close to left or right of chromosome, will throw an error \n",
    "            \n",
    "        #check that total walk length is at least 1Mb\n",
    "        #if np.sum(bed['span']>akita_seq_len):"
   ]
  },
  {
   "cell_type": "code",
   "execution_count": 42,
   "id": "1a495326",
   "metadata": {},
   "outputs": [
    {
     "name": "stdout",
     "output_type": "stream",
     "text": [
      "AGCTGGGTTC\n"
     ]
    }
   ],
   "source": [
    "#for the reference, could make prediction for each individual region\n",
    "#but for some of these walks, could be 50-100 predictions for each sample\n",
    "#one option is to get start and end of total walk region, make as few akita predictions as possible, \n",
    "#cut out relevant ones and stitch it together -- is prediction accurate? my guess is yes because it's all reference,\n",
    "#but also previously mentioned that 1bp changes can make a big difference "
   ]
  },
  {
   "cell_type": "code",
   "execution_count": 43,
   "id": "b241ae95",
   "metadata": {},
   "outputs": [],
   "source": [
    "#i think problem is that centering the gene for some of them, that walk is already 1Mb so the predictions are the same "
   ]
  },
  {
   "cell_type": "code",
   "execution_count": 44,
   "id": "70b7d55e",
   "metadata": {},
   "outputs": [
    {
     "data": {
      "image/png": "[encoded data removed]",
      "text/plain": [
       "<Figure size 576x288 with 4 Axes>"
      ]
     },
     "metadata": {
      "needs_background": "light"
     },
     "output_type": "display_data"
    }
   ],
   "source": []
  },
  {
   "cell_type": "code",
   "execution_count": null,
   "id": "1985b177",
   "metadata": {},
   "outputs": [],
   "source": []
  },
  {
   "cell_type": "code",
   "execution_count": null,
   "id": "72cca632",
   "metadata": {},
   "outputs": [],
   "source": []
  }
 ],
 "metadata": {
  "kernelspec": {
   "display_name": "Python 3 (ipykernel)",
   "language": "python",
   "name": "python3"
  },
  "language_info": {
   "codemirror_mode": {
    "name": "ipython",
    "version": 3
   },
   "file_extension": ".py",
   "mimetype": "text/x-python",
   "name": "python",
   "nbconvert_exporter": "python",
   "pygments_lexer": "ipython3",
   "version": "3.9.0"
  }
 },
 "nbformat": 4,
 "nbformat_minor": 5
}
