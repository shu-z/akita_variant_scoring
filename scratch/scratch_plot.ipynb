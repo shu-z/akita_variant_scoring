{
 "cells": [
  {
   "cell_type": "code",
   "execution_count": null,
   "id": "34d0e2f2",
   "metadata": {},
   "outputs": [],
   "source": [
    "%load_ext autoreload\n",
    "%autoreload 2"
   ]
  },
  {
   "cell_type": "code",
   "execution_count": null,
   "id": "09f5b462",
   "metadata": {},
   "outputs": [],
   "source": [
    "import akita_utils_forplotting as utils\n",
    "import numpy as np\n",
    "import pandas as pd\n",
    "import sys\n",
    "import os, psutil\n",
    "import time \n",
    "import matplotlib.pyplot as plt\n",
    "\n",
    "from optparse import OptionParser\n",
    "\n",
    "\n",
    "nt = ['A', 'T', 'C', 'G']"
   ]
  },
  {
   "cell_type": "code",
   "execution_count": null,
   "id": "26499508",
   "metadata": {},
   "outputs": [],
   "source": [
    "#file_path='/pollard/data/projects/shzhang_rotation/somatic_variants/somatic_structural_variants/'\n",
    "\n",
    "#vcf_path= file_path+ '02dc6e6c-1baf-4f43-8360-d4950838a63a.somaticSV.vcf.gz'\n",
    "\n",
    "# #input_dir=options.in_dir\n",
    "input_dir='/pollard/home/shzhang/akita/results/20230326/bedpe/'\n",
    "\n",
    "\n",
    "#vcf_name='02dc6e6c-1baf-4f43-8360-d4950838a63a.somaticSV.vcf.gz'\n",
    "vcf_name='35c87b1a-eea4-4841-bed3-4c9591f5f417.somaticSV.bedpe'\n",
    "vcf_path=input_dir + vcf_name\n",
    "print(vcf_path)\n"
   ]
  },
  {
   "cell_type": "code",
   "execution_count": null,
   "id": "84fa65f9",
   "metadata": {},
   "outputs": [],
   "source": [
    "# Read variants \n",
    "variants = pd.read_csv(vcf_path, sep='\\t')\n",
    "#print('num SVs:' + str(len(variants)))\n",
    "print('Sample {} has {} SVs'.format(vcf_name, str(len(variants))))\n",
    "\n",
    "variants['SVTYPE']=variants['INFO_A'].str.extract('SVTYPE=(.*?)\\;')\n",
    "\n",
    "\n",
    "#subset to non BND since BND are taken care of \n",
    "#variants=variants[variants.TYPE != 'BND']\n",
    "variants=variants[variants.TYPE =='DUP']\n",
    "variants=variants[variants.SPAN >5e4]\n",
    "variants=variants[variants.SPAN <5e5]\n",
    "\n",
    "#variants=variants[variants.SVTYPE != 'BND']\n",
    "variants = variants.reset_index(drop=True)\n",
    "#pd.to_numeric(variants['MSE'])\n",
    "#variants=variants[variants.MSE >0.5]\n",
    "#variants[variants.]\n",
    "#variants[variants.START_B==14981062]\n",
    "variants\n"
   ]
  },
  {
   "cell_type": "code",
   "execution_count": null,
   "id": "3d74e51f",
   "metadata": {},
   "outputs": [],
   "source": [
    "i=2\n",
    "\n",
    "\n",
    "#2 is lopsided\n",
    "#3 is not \n",
    "\n",
    " # Get info on variant\n",
    "variant = variants.loc[i]\n",
    "\n",
    "CHR = 'chr'+variant.CHROM_A\n",
    "POS = variant.START_A\n",
    "REF = variant.REF_A\n",
    "ALT = variant.ALT_A\n",
    "SVTYPE = variant.TYPE\n",
    "END= (int(variant.END_B)) if SVTYPE!='BND' else np.nan\n",
    "print(variant.SPAN)\n",
    "\n",
    "#print(variant)\n",
    "\n",
    "    \n",
    "    \n",
    "if all([x in nt for x in ALT]):\n",
    "    REF_mat, ALT_mat  = utils.get_scores(CHR, POS, REF, ALT, SVTYPE, shift='none')\n",
    "    #MSE_left, CORR_left, MSE_track_left, CORR_track_left = utils.get_scores(CHR, POS, REF, ALT, SVTYPE, shift='left')\n",
    "    #MSE_right, CORR_right, MSE_track_right, CORR_track_right = utils.get_scores(CHR, POS, REF, ALT, SVTYPE, shift='right')\n",
    "\n",
    "\n",
    "else:\n",
    "    #tracks are  of shape (448,)\n",
    "    #for each sample need to return (448 x 6 x n) array \n",
    "    REF_mat, ALT_mat, REF_mat_before, ALT_mat_before = utils.get_scores_SV(CHR, POS, ALT, END, SVTYPE, shift='none')\n",
    "    #MSE_left, CORR_left, MSE_track_left, CORR_track_left = utils.get_scores_SV(CHR, POS, ALT, END, SVTYPE, shift='left')\n",
    "    #MSE_right, CORR_right, MSE_track_right, CORR_track_right = utils.get_scores_SV(CHR, POS, ALT, END, SVTYPE, shift='right')\n",
    "        \n",
    "\n",
    "        \n"
   ]
  },
  {
   "cell_type": "code",
   "execution_count": null,
   "id": "f65375a0",
   "metadata": {},
   "outputs": [],
   "source": [
    "        \n",
    "plt.figure(figsize=(8,4))\n",
    "target_index = 0\n",
    "vmin=-2; vmax=2\n",
    "\n",
    "\n",
    "\n",
    "plt.subplot(121) \n",
    "im = plt.matshow(ALT_mat, fignum=False, cmap= 'RdBu_r', vmax=vmax, vmin=vmin)\n",
    "plt.colorbar(im, fraction=.04, pad = 0.05, ticks=[-2,-1, 0, 1,2]);\n",
    "plt.title('ALT Prediction' + '\\n' + '{} at {}:{}-{}'.format(SVTYPE, CHR, POS, END),y=1.15 )\n",
    "#plt.title('pred test',y=1.15 )\n",
    "\n",
    "#plt.ylabel(myseq_str)\n",
    "\n",
    "# plot target \n",
    "plt.subplot(122) \n",
    "im = plt.matshow(REF_mat, fignum=False, cmap= 'RdBu_r', vmax=vmax, vmin=vmin)\n",
    "plt.colorbar(im, fraction=.04, pad = 0.05, ticks=[-2,-1, 0, 1,2]);\n",
    "#plt.title( 'target-'+str(hic_num_to_name_dict[target_index]),y=1.15)\n",
    "plt.title('REF Target' + '\\n' + '{} at {}:{}-{}'.format(SVTYPE, CHR, POS, END),y=1.15 )\n",
    "\n",
    "\n",
    "\n",
    "plt.tight_layout()\n",
    "#plt.show()\n",
    "#plt.savefig('/pollard/home/shzhang/akita/figs/del_mask_schematic.pdf', dpi=300)   # save the figure to file"
   ]
  },
  {
   "cell_type": "code",
   "execution_count": null,
   "id": "97771bca",
   "metadata": {},
   "outputs": [],
   "source": []
  }
 ],
 "metadata": {
  "kernelspec": {
   "display_name": "Python 3 (ipykernel)",
   "language": "python",
   "name": "python3"
  },
  "language_info": {
   "codemirror_mode": {
    "name": "ipython",
    "version": 3
   },
   "file_extension": ".py",
   "mimetype": "text/x-python",
   "name": "python",
   "nbconvert_exporter": "python",
   "pygments_lexer": "ipython3",
   "version": "3.9.0"
  }
 },
 "nbformat": 4,
 "nbformat_minor": 5
}
